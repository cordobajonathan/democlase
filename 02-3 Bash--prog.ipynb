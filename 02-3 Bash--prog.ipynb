{
 "cells": [
  {
   "cell_type": "markdown",
   "metadata": {},
   "source": [
    "3009768 Ciencia de los Datos Aplicada  \n",
    "Espacialización en Analítica  \n",
    "Facultad de Minas, Universidad Nacional de Colombia  \n",
    "\n",
    "# 2-3. Introducción a la interfaz de línea de comandos (Bash) -- Programación\n",
    "\n"
   ]
  },
  {
   "cell_type": "markdown",
   "metadata": {},
   "source": [
    "**Asigne el texto `hola mundo` a una variable y luego imprima el contenido de la variable.**  \n",
    "No puede haber espacio alrededor del `=`."
   ]
  },
  {
   "cell_type": "code",
   "execution_count": 1,
   "metadata": {
    "collapsed": false
   },
   "outputs": [
    {
     "name": "stdout",
     "output_type": "stream",
     "text": [
      "hola mundo\r\n"
     ]
    }
   ],
   "source": [
    "var1='hola mundo'\n",
    "echo $var1"
   ]
  },
  {
   "cell_type": "markdown",
   "metadata": {},
   "source": [
    "A una variable se le puede asignar el resultado de un comando del shell. Por ejemplo,"
   ]
  },
  {
   "cell_type": "code",
   "execution_count": 2,
   "metadata": {
    "collapsed": false
   },
   "outputs": [
    {
     "name": "stdout",
     "output_type": "stream",
     "text": [
      "hola mundo\r\n"
     ]
    }
   ],
   "source": [
    "x=$(echo hola mundo)\n",
    "echo $x"
   ]
  },
  {
   "cell_type": "markdown",
   "metadata": {},
   "source": [
    "**Haga cálculos numéricos con variables.**  \n",
    "El shell solo soporta aritmética entera. El shell está diseñado primariamente para operaciones del sistema operativo y cadenas de caracteres, por lo que el siguiente código es incorrecto para realizar operaciones aritméticas."
   ]
  },
  {
   "cell_type": "code",
   "execution_count": 3,
   "metadata": {
    "collapsed": false
   },
   "outputs": [
    {
     "name": "stdout",
     "output_type": "stream",
     "text": [
      "1+1\r\n"
     ]
    }
   ],
   "source": [
    "x=1\n",
    "y=$x+1\n",
    "echo $y"
   ]
  },
  {
   "cell_type": "markdown",
   "metadata": {},
   "source": [
    "A continuación se presenta la forma correcta."
   ]
  },
  {
   "cell_type": "code",
   "execution_count": 4,
   "metadata": {
    "collapsed": false
   },
   "outputs": [
    {
     "name": "stdout",
     "output_type": "stream",
     "text": [
      "2\r\n"
     ]
    }
   ],
   "source": [
    "x=1\n",
    "y=$((x+1))\n",
    "echo $y"
   ]
  },
  {
   "cell_type": "markdown",
   "metadata": {},
   "source": [
    "El shell también tiene el coamndo let para realizar operaciones numéricas."
   ]
  },
  {
   "cell_type": "code",
   "execution_count": 5,
   "metadata": {
    "collapsed": false
   },
   "outputs": [
    {
     "name": "stdout",
     "output_type": "stream",
     "text": [
      "2\r\n"
     ]
    }
   ],
   "source": [
    "let x=1\n",
    "let y=x+1\n",
    "echo $y"
   ]
  },
  {
   "cell_type": "markdown",
   "metadata": {},
   "source": [
    "El shell soporta los `+=`, `-=`, ... similares a los del lenguaje C. No pueden dejarse espacios alrededor de ellos."
   ]
  },
  {
   "cell_type": "code",
   "execution_count": 6,
   "metadata": {
    "collapsed": false
   },
   "outputs": [
    {
     "name": "stdout",
     "output_type": "stream",
     "text": [
      "2\r\n"
     ]
    }
   ],
   "source": [
    "let x=1\n",
    "let x+=1\n",
    "echo $x"
   ]
  },
  {
   "cell_type": "markdown",
   "metadata": {},
   "source": [
    "**Escriba un script llamado `demo.sh` que imprima `hola mundo`.**  \n",
    "Primero se procede a crear el archivo `demo.sh`; se imprime `hola mundo` usando el comando `echo`. Por convención, los archivos que son interpretados por el bash tienen extensión `.sh`."
   ]
  },
  {
   "cell_type": "code",
   "execution_count": 7,
   "metadata": {
    "collapsed": false
   },
   "outputs": [
    {
     "name": "stdout",
     "output_type": "stream",
     "text": []
    }
   ],
   "source": [
    "echo 'echo hola mundo' > demo.sh"
   ]
  },
  {
   "cell_type": "markdown",
   "metadata": {},
   "source": [
    "Se ejecuta usando el bash. El script queda disponible en el disco para ser usado cuando se requera. Se debe decir que lo ejecuta el `bash`."
   ]
  },
  {
   "cell_type": "code",
   "execution_count": 8,
   "metadata": {
    "collapsed": false
   },
   "outputs": [
    {
     "name": "stdout",
     "output_type": "stream",
     "text": [
      "hola mundo\r\n"
     ]
    }
   ],
   "source": [
    "bash ./demo.sh"
   ]
  },
  {
   "cell_type": "markdown",
   "metadata": {},
   "source": [
    "**Convierta el archivo `demo.sh` en ejecutable.**  \n",
    "El archivo debe modificarse para que contenga información de cuál es interprete que lo ejecuta. Para ello, se agrega la información (obligatoriamente) en la primera línea del archivo. El símbolo `#!` se conoce como shebang e indica al sistema operativo que interprete (bash, R, Python, Perl, ...). Adicionalmente, se cambian las propiedades del archivo a ejecutable con el comando `chmod`. "
   ]
  },
  {
   "cell_type": "code",
   "execution_count": 9,
   "metadata": {
    "collapsed": false
   },
   "outputs": [
    {
     "name": "stdout",
     "output_type": "stream",
     "text": [
      "hola mundo\r\n"
     ]
    }
   ],
   "source": [
    "echo '#! /usr/bin/env bash\n",
    "echo hola mundo' > demo.sh\n",
    "chmod +x demo.sh\n",
    "./demo.sh"
   ]
  },
  {
   "cell_type": "markdown",
   "metadata": {},
   "source": [
    "**Explique como se pueden pasar parámetros a un script.**  \n",
    "Se accede a los parámetros que se pasan al script mediante variables especiales:\n",
    "\n",
    "* `$@` y `$*` es la cadena de texto con todos los parámetros que se pasan al script.\n",
    "* `$#` es el número de parámetros pasados al script.\n",
    "* `$0` es el nombre del script.\n",
    "* `$1` es primer argumento.\n",
    "* `$2` es el segundo, y así sucesivamente.\n",
    "\n",
    "El siguiente script imprime el contenido de las variables anteriores."
   ]
  },
  {
   "cell_type": "code",
   "execution_count": 10,
   "metadata": {
    "collapsed": false
   },
   "outputs": [
    {
     "name": "stdout",
     "output_type": "stream",
     "text": [
      "echo $@\r\n",
      "echo $*\r\n",
      "echo $0\r\n",
      "echo $1\r\n",
      "echo $#\r\n"
     ]
    }
   ],
   "source": [
    "echo \"echo \\$@\n",
    "echo \\$*\n",
    "echo \\$0\n",
    "echo \\$1\n",
    "echo \\$#\" > demo.sh\n",
    "cat demo.sh"
   ]
  },
  {
   "cell_type": "code",
   "execution_count": 11,
   "metadata": {
    "collapsed": false
   },
   "outputs": [
    {
     "name": "stdout",
     "output_type": "stream",
     "text": [
      "a b c d\r\n",
      "a b c d\r\n",
      "demo.sh\r\n",
      "a\r\n",
      "4\r\n"
     ]
    }
   ],
   "source": [
    "bash demo.sh a b c d"
   ]
  },
  {
   "cell_type": "markdown",
   "metadata": {},
   "source": [
    "**Escriba una función que imprima `hola mundo`.**  \n",
    "Primero se crea la función."
   ]
  },
  {
   "cell_type": "code",
   "execution_count": 12,
   "metadata": {
    "collapsed": false
   },
   "outputs": [
    {
     "name": "stdout",
     "output_type": "stream",
     "text": []
    }
   ],
   "source": [
    "demo(){\n",
    "  echo hola mundo\n",
    "}"
   ]
  },
  {
   "cell_type": "markdown",
   "metadata": {},
   "source": [
    "Luego se puede usar."
   ]
  },
  {
   "cell_type": "code",
   "execution_count": 13,
   "metadata": {
    "collapsed": false
   },
   "outputs": [
    {
     "name": "stdout",
     "output_type": "stream",
     "text": [
      "hola mundo\r\n"
     ]
    }
   ],
   "source": [
    "demo"
   ]
  },
  {
   "cell_type": "markdown",
   "metadata": {},
   "source": [
    "**Cómo se pasan parámetros a una función?**  \n",
    "Igual que con los scripts. En este caso `$0` es el `bash` y no se puede acceder al nombre de la función. "
   ]
  },
  {
   "cell_type": "code",
   "execution_count": 14,
   "metadata": {
    "collapsed": false
   },
   "outputs": [
    {
     "name": "stdout",
     "output_type": "stream",
     "text": [
      "a b c d\r\n",
      "a b c d\r\n",
      "/bin/bash\r\n",
      "a\r\n",
      "4\r\n"
     ]
    }
   ],
   "source": [
    "demo() {\n",
    "  echo $@\n",
    "  echo $*\n",
    "  echo $0\n",
    "  echo $1\n",
    "  echo $#\n",
    "}\n",
    "demo a b c d"
   ]
  },
  {
   "cell_type": "markdown",
   "metadata": {},
   "source": [
    "**Escriba una función que reciba dos números e imprima el menor de ellos. Si ambos son iguales debe devolver los dos.**"
   ]
  },
  {
   "cell_type": "code",
   "execution_count": 15,
   "metadata": {
    "collapsed": false
   },
   "outputs": [
    {
     "name": "stdout",
     "output_type": "stream",
     "text": [
      "1\r\n"
     ]
    }
   ],
   "source": [
    "min2(){\n",
    "    if (($1 < $2))\n",
    "    then \n",
    "        echo $1\n",
    "    elif (($1 == $2))\n",
    "    then\n",
    "        echo $1 ' ' $2\n",
    "    else\n",
    "        echo $2\n",
    "    fi        \n",
    "}\n",
    "min2 1 2"
   ]
  },
  {
   "cell_type": "code",
   "execution_count": 16,
   "metadata": {
    "collapsed": false
   },
   "outputs": [
    {
     "name": "stdout",
     "output_type": "stream",
     "text": [
      "1\r\n"
     ]
    }
   ],
   "source": [
    "min2 2 1"
   ]
  },
  {
   "cell_type": "code",
   "execution_count": 17,
   "metadata": {
    "collapsed": false
   },
   "outputs": [
    {
     "name": "stdout",
     "output_type": "stream",
     "text": [
      "2   2\r\n"
     ]
    }
   ],
   "source": [
    "min2 2 2"
   ]
  },
  {
   "cell_type": "markdown",
   "metadata": {},
   "source": [
    "**Imprima los números del 1 al 5 usando un ciclo for.**  \n",
    "Existen varias alternativas para hacer esto."
   ]
  },
  {
   "cell_type": "code",
   "execution_count": 18,
   "metadata": {
    "collapsed": false
   },
   "outputs": [
    {
     "name": "stdout",
     "output_type": "stream",
     "text": [
      "1 2 3 4 5 "
     ]
    }
   ],
   "source": [
    "for x in 1 2 3 4 5\n",
    "do\n",
    "    echo -n $x ''\n",
    "done"
   ]
  },
  {
   "cell_type": "code",
   "execution_count": 19,
   "metadata": {
    "collapsed": false
   },
   "outputs": [
    {
     "name": "stdout",
     "output_type": "stream",
     "text": [
      "1 2 3 4 5 "
     ]
    }
   ],
   "source": [
    "for x in $(seq 1 5)\n",
    "do\n",
    "    echo -n $x ''\n",
    "done"
   ]
  },
  {
   "cell_type": "code",
   "execution_count": 20,
   "metadata": {
    "collapsed": false
   },
   "outputs": [
    {
     "name": "stdout",
     "output_type": "stream",
     "text": [
      "1 2 3 4 5 "
     ]
    }
   ],
   "source": [
    "for x in {1..5}\n",
    "do\n",
    "    echo -n $x ''\n",
    "done"
   ]
  },
  {
   "cell_type": "code",
   "execution_count": 21,
   "metadata": {
    "collapsed": false
   },
   "outputs": [
    {
     "name": "stdout",
     "output_type": "stream",
     "text": [
      "1 2 3 4 5 "
     ]
    }
   ],
   "source": [
    "for ((x=1; x <= 5; x++))\n",
    "do\n",
    "  echo -n $x ''\n",
    "done"
   ]
  },
  {
   "cell_type": "markdown",
   "metadata": {},
   "source": [
    "**Ejemplifique el uso de `arrays`.**  "
   ]
  },
  {
   "cell_type": "code",
   "execution_count": 22,
   "metadata": {
    "collapsed": false
   },
   "outputs": [
    {
     "name": "stdout",
     "output_type": "stream",
     "text": [
      "a\r\n"
     ]
    }
   ],
   "source": [
    "x=(a b c d e)\n",
    "echo $x"
   ]
  },
  {
   "cell_type": "code",
   "execution_count": 23,
   "metadata": {
    "collapsed": false
   },
   "outputs": [
    {
     "name": "stdout",
     "output_type": "stream",
     "text": [
      "a b c d e\r\n"
     ]
    }
   ],
   "source": [
    "echo ${x[*]}"
   ]
  },
  {
   "cell_type": "code",
   "execution_count": 24,
   "metadata": {
    "collapsed": false
   },
   "outputs": [
    {
     "name": "stdout",
     "output_type": "stream",
     "text": [
      "a\r\n"
     ]
    }
   ],
   "source": [
    "echo ${x[0]}"
   ]
  },
  {
   "cell_type": "code",
   "execution_count": 25,
   "metadata": {
    "collapsed": false
   },
   "outputs": [
    {
     "name": "stdout",
     "output_type": "stream",
     "text": [
      "a\r\n",
      "b\r\n",
      "c\r\n",
      "d\r\n",
      "e\r\n"
     ]
    }
   ],
   "source": [
    "for n in ${x[*]}\n",
    "do\n",
    "    echo $n\n",
    "done"
   ]
  },
  {
   "cell_type": "code",
   "execution_count": 26,
   "metadata": {
    "collapsed": false
   },
   "outputs": [
    {
     "name": "stdout",
     "output_type": "stream",
     "text": [
      "a\r\n",
      "b\r\n",
      "hola\r\n",
      "d\r\n",
      "e\r\n"
     ]
    }
   ],
   "source": [
    "x[2]='hola'\n",
    "for n in ${x[*]}\n",
    "do\n",
    "    echo $n\n",
    "done"
   ]
  },
  {
   "cell_type": "markdown",
   "metadata": {},
   "source": [
    "**Genere las cadenas `file1.txt`, `file2.txt` ... hasta `file5.txt` usando un ciclo `for`.** "
   ]
  },
  {
   "cell_type": "code",
   "execution_count": 27,
   "metadata": {
    "collapsed": false
   },
   "outputs": [
    {
     "name": "stdout",
     "output_type": "stream",
     "text": [
      "file1.txt\r\n",
      "file2.txt\r\n",
      "file3.txt\r\n",
      "file4.txt\r\n",
      "file5.txt\r\n"
     ]
    }
   ],
   "source": [
    "for x in {1..5}\n",
    "do\n",
    "    echo file${x}.txt\n",
    "done"
   ]
  },
  {
   "cell_type": "markdown",
   "metadata": {},
   "source": [
    "De hecho, se pueden generar salidas mucho más complejas, tal como se ilustra a continuación (Ok! no se necesita el for para esto, pero es para ejemplificar)."
   ]
  },
  {
   "cell_type": "code",
   "execution_count": 28,
   "metadata": {
    "collapsed": false
   },
   "outputs": [
    {
     "name": "stdout",
     "output_type": "stream",
     "text": [
      "---> file{1}.txt\r\n",
      "---> file{2}.txt\r\n",
      "---> file{3}.txt\r\n",
      "---> file{4}.txt\r\n",
      "---> file{5}.txt\r\n"
     ]
    }
   ],
   "source": [
    "for x in $(seq -f'file{%g}.txt' 5)\n",
    "do\n",
    "    echo '--->' $x\n",
    "done"
   ]
  },
  {
   "cell_type": "markdown",
   "metadata": {},
   "source": [
    "**Escriba una función que reciba un número indefinido de enteros e imprima el mínimo de ellos.**"
   ]
  },
  {
   "cell_type": "code",
   "execution_count": 29,
   "metadata": {
    "collapsed": false
   },
   "outputs": [
    {
     "name": "stdout",
     "output_type": "stream",
     "text": [
      "1\r\n"
     ]
    }
   ],
   "source": [
    "minimum(){\n",
    "    n=$1\n",
    "    for x in $*\n",
    "    do\n",
    "        if test $x -lt $n \n",
    "        then\n",
    "            n=$x\n",
    "        fi\n",
    "    done\n",
    "    echo $n\n",
    "}\n",
    "minimum 6 1 7 5 1 2  5"
   ]
  },
  {
   "cell_type": "markdown",
   "metadata": {},
   "source": [
    "**Escriba una función que imprima la primera línea de un conjunto de archivos llamados out.*.**  \n",
    "Primero se generan los archivos para probar la función."
   ]
  },
  {
   "cell_type": "code",
   "execution_count": 30,
   "metadata": {
    "collapsed": false
   },
   "outputs": [
    {
     "name": "stdout",
     "output_type": "stream",
     "text": [
      "out.1\tout.2\tout.3\tout.4\tout.5\r\n"
     ]
    }
   ],
   "source": [
    "for x in {1..5}\n",
    "do\n",
    "    seq -f'linea %g' 5 > out.${x}\n",
    "done\n",
    "ls out.*"
   ]
  },
  {
   "cell_type": "markdown",
   "metadata": {},
   "source": [
    "El comando `head` puede manejar multiples archivos, tal como se muestra a continuación."
   ]
  },
  {
   "cell_type": "code",
   "execution_count": 31,
   "metadata": {
    "collapsed": false
   },
   "outputs": [
    {
     "name": "stdout",
     "output_type": "stream",
     "text": [
      "==> out.1 <==\r\n",
      "linea 1\r\n",
      "\r\n",
      "==> out.2 <==\r\n",
      "linea 1\r\n"
     ]
    }
   ],
   "source": [
    "head -n 1 out.1 out.2"
   ]
  },
  {
   "cell_type": "markdown",
   "metadata": {},
   "source": [
    "La función solicitada es la siguiente:"
   ]
  },
  {
   "cell_type": "code",
   "execution_count": 32,
   "metadata": {
    "collapsed": false
   },
   "outputs": [
    {
     "name": "stdout",
     "output_type": "stream",
     "text": [
      "linea 1\r\n",
      "linea 1\r\n",
      "linea 1\r\n",
      "linea 1\r\n",
      "linea 1\r\n"
     ]
    }
   ],
   "source": [
    "head1(){\n",
    "    for x in out.*\n",
    "    do\n",
    "        head -n 1 $x\n",
    "    done\n",
    "}\n",
    "head1"
   ]
  },
  {
   "cell_type": "markdown",
   "metadata": {},
   "source": [
    "**Genere las cadenas `file1.txt`, `file2.txt` ... hasta `file5.txt` usando un ciclo `while`.** "
   ]
  },
  {
   "cell_type": "code",
   "execution_count": 33,
   "metadata": {
    "collapsed": false
   },
   "outputs": [
    {
     "name": "stdout",
     "output_type": "stream",
     "text": [
      "file1.txt\r\n",
      "file2.txt\r\n",
      "file3.txt\r\n",
      "file4.txt\r\n",
      "file5.txt\r\n"
     ]
    }
   ],
   "source": [
    "n=1\n",
    "while test $n -le 5\n",
    "do\n",
    "    echo file${n}.txt\n",
    "    n=$((n+1))\n",
    "done"
   ]
  },
  {
   "cell_type": "code",
   "execution_count": 34,
   "metadata": {
    "collapsed": false
   },
   "outputs": [
    {
     "name": "stdout",
     "output_type": "stream",
     "text": [
      "file1.txt\r\n",
      "file2.txt\r\n",
      "file3.txt\r\n",
      "file4.txt\r\n",
      "file5.txt\r\n"
     ]
    }
   ],
   "source": [
    "n=1\n",
    "while (($n <= 5))\n",
    "do\n",
    "    echo file${n}.txt\n",
    "    n=$((n+1))\n",
    "done"
   ]
  },
  {
   "cell_type": "markdown",
   "metadata": {},
   "source": [
    "**Genere las cadenas `file1.txt`, `file2.txt` ... hasta `file5.txt` usando un ciclo `until`.** "
   ]
  },
  {
   "cell_type": "code",
   "execution_count": 35,
   "metadata": {
    "collapsed": false
   },
   "outputs": [
    {
     "name": "stdout",
     "output_type": "stream",
     "text": [
      "file1.txt\r\n",
      "file2.txt\r\n",
      "file3.txt\r\n",
      "file4.txt\r\n",
      "file5.txt\r\n"
     ]
    }
   ],
   "source": [
    "n=1\n",
    "until (($n > 5))\n",
    "do\n",
    "    echo file${n}.txt\n",
    "    n=$((n+1))\n",
    "done"
   ]
  },
  {
   "cell_type": "markdown",
   "metadata": {},
   "source": [
    "**Ejemplifique el uso de `case`... `esac`.**  \n",
    "El siguiente codigo lee los nombres de los archivos del directorio actual e imprime los que son un jupyter notebook."
   ]
  },
  {
   "cell_type": "code",
   "execution_count": 36,
   "metadata": {
    "collapsed": false
   },
   "outputs": [
    {
     "name": "stdout",
     "output_type": "stream",
     "text": [
      "02-1 bash--cmd.ipynb  es un Jupyter notebook\r\n",
      "02-2 Practica 1.ipynb  es un Jupyter notebook\r\n",
      "02-3 bash--prog.ipynb  es un Jupyter notebook\r\n",
      "02-4 Practica 2.ipynb  es un Jupyter notebook\r\n"
     ]
    }
   ],
   "source": [
    "for x in *\n",
    "do\n",
    "    case $x in\n",
    "        *.ipynb) echo -n -e $x ' es un Jupyter notebook\\n';;\n",
    "        *) \n",
    "    esac\n",
    "done"
   ]
  },
  {
   "cell_type": "markdown",
   "metadata": {},
   "source": [
    "**Escriba una función que sume números en punto flotante.**  \n",
    "La dificultad de este punto radica en que el shell solo realiza operaciones sobre números enteros. Se debe usar el comando `bc` o el comando `dc` para realizar la suma. Se iniciará con `bc`. Para realizar la suma se debe generar una cadena de la forma `1.0+2.0+3.0`, la cual es pasada a `bc`. El siguiente código muestra como se genera en cada iteración del ciclo `for`. La variable `s` se usa para generar la expresión matemática. "
   ]
  },
  {
   "cell_type": "code",
   "execution_count": 37,
   "metadata": {
    "collapsed": false
   },
   "outputs": [
    {
     "name": "stdout",
     "output_type": "stream",
     "text": [
      "0 + 1.1\r\n",
      "0 + 1.1 + 2.2\r\n",
      "0 + 1.1 + 2.2 + 3.3\r\n"
     ]
    }
   ],
   "source": [
    "s=0\n",
    "for x in 1.1 2.2 3.3\n",
    "do\n",
    "    s=$(echo $s \\+ $x)\n",
    "    echo $s\n",
    "done"
   ]
  },
  {
   "cell_type": "markdown",
   "metadata": {},
   "source": [
    "Ahora se le pasa a `bc`."
   ]
  },
  {
   "cell_type": "code",
   "execution_count": 38,
   "metadata": {
    "collapsed": false
   },
   "outputs": [
    {
     "name": "stdout",
     "output_type": "stream",
     "text": [
      "6.6\r\n"
     ]
    }
   ],
   "source": [
    "s=0\n",
    "for x in 1.1 2.2 3.3 \n",
    "do\n",
    "    s=$(echo $s \\+ $x)\n",
    "done\n",
    "echo $s | bc"
   ]
  },
  {
   "cell_type": "markdown",
   "metadata": {},
   "source": [
    "Otra forma sería usar la variable `s` para almacenar la suma parcial, tal como se ejemplifica a continuación."
   ]
  },
  {
   "cell_type": "code",
   "execution_count": 39,
   "metadata": {
    "collapsed": false
   },
   "outputs": [
    {
     "name": "stdout",
     "output_type": "stream",
     "text": [
      "1.1\r\n",
      "3.3\r\n",
      "6.6\r\n"
     ]
    }
   ],
   "source": [
    "s=0\n",
    "for x in 1.1 2.2 3.3\n",
    "do\n",
    "    s=$(echo $s \\+ $x | bc)\n",
    "    echo $s\n",
    "done"
   ]
  },
  {
   "cell_type": "markdown",
   "metadata": {},
   "source": [
    "Ahora se puede encapsular el código en una función."
   ]
  },
  {
   "cell_type": "code",
   "execution_count": 40,
   "metadata": {
    "collapsed": false
   },
   "outputs": [
    {
     "name": "stdout",
     "output_type": "stream",
     "text": [
      "10.4\r\n"
     ]
    }
   ],
   "source": [
    "sum(){\n",
    "    s=0\n",
    "    for x in $*\n",
    "    do\n",
    "        s=$(echo $s \\+ $x)\n",
    "    done\n",
    "    echo $s | bc\n",
    "}\n",
    "sum 1.1 2.1 3.1 4.1"
   ]
  },
  {
   "cell_type": "markdown",
   "metadata": {},
   "source": [
    "El comando `dc` es una calculadora de notación postfija. El siguiente código permite sumar los números 1, 2 y 3. Se debe colocar la letra `p` al final para que imprima el resultado."
   ]
  },
  {
   "cell_type": "code",
   "execution_count": 41,
   "metadata": {
    "collapsed": false
   },
   "outputs": [
    {
     "name": "stdout",
     "output_type": "stream",
     "text": [
      "6\r\n"
     ]
    }
   ],
   "source": [
    "echo '1 2 + 3 + p' | dc"
   ]
  },
  {
   "cell_type": "markdown",
   "metadata": {},
   "source": [
    "Analice los cambios en la función `sum` respecto a la versión anterior."
   ]
  },
  {
   "cell_type": "code",
   "execution_count": 42,
   "metadata": {
    "collapsed": false
   },
   "outputs": [
    {
     "name": "stdout",
     "output_type": "stream",
     "text": [
      "10.4\r\n"
     ]
    }
   ],
   "source": [
    "sum(){\n",
    "    s=0\n",
    "    for x in $*\n",
    "    do\n",
    "        s=$(echo $s  $x \\+)\n",
    "    done\n",
    "    echo $s ' p'  | dc\n",
    "}\n",
    "sum 1.1 2.1 3.1 4.1"
   ]
  },
  {
   "cell_type": "markdown",
   "metadata": {},
   "source": [
    "# Combinación con herramientas escritas en otros lenguajes   \n",
    "Una de las características más importantes del shell de comandos (Bash en nuestro caso), es la posibilidad de combinar herramientas escritas en diferentes lenguajes, o mejor dicho, en la herramienta que resulte más adecuada para cada tarea particular. A continuación se presentan ejemplos de como crear herramientas en R y Python que pueden ser llamadas desde el shell."
   ]
  },
  {
   "cell_type": "markdown",
   "metadata": {},
   "source": [
    "**Cuál es el path del shell?.**  \n",
    "La variable `$PATH` contiene la lista de directorios donde se busca un archivo (comando,..., etc) si no se encuentra en el directorio actual."
   ]
  },
  {
   "cell_type": "code",
   "execution_count": 43,
   "metadata": {
    "collapsed": false
   },
   "outputs": [
    {
     "name": "stdout",
     "output_type": "stream",
     "text": [
      "bash: /Library/Frameworks/Python.framework/Versions/3.5/bin:/Users/jdvelasq/anaconda/bin:/opt/local/bin:/opt/local/sbin:/usr/local/bin:/usr/bin:/bin:/usr/sbin:/sbin:/opt/X11/bin:/Library/TeX/texbin: No such file or directory\r\n"
     ]
    }
   ],
   "source": [
    "$PATH"
   ]
  },
  {
   "cell_type": "markdown",
   "metadata": {},
   "source": [
    "**Dónde esta instalado Python?.**  \n",
    "La salida de `which` indica que `python` está instalado en dos directorios."
   ]
  },
  {
   "cell_type": "code",
   "execution_count": 44,
   "metadata": {
    "collapsed": false
   },
   "outputs": [
    {
     "name": "stdout",
     "output_type": "stream",
     "text": [
      "/Users/jdvelasq/anaconda/bin/python\r\n",
      "/usr/bin/python\r\n"
     ]
    }
   ],
   "source": [
    "which -a python"
   ]
  },
  {
   "cell_type": "markdown",
   "metadata": {},
   "source": [
    "**Qué versión de python está instalada?**  \n",
    "Hay dos versiones instaladas (3.5.1 y 2.7.10): una hecha por anaconda y la otra que viene con el sistema operatio (Mac OS X en mi caso). Ya que `anaconda` está primero en el path, se usará Python 3.5.1 si no se especifica cual versión se debe correr."
   ]
  },
  {
   "cell_type": "code",
   "execution_count": 45,
   "metadata": {
    "collapsed": false
   },
   "outputs": [
    {
     "name": "stdout",
     "output_type": "stream",
     "text": [
      "Python 3.5.1 :: Anaconda 2.4.1 (x86_64)\r\n"
     ]
    }
   ],
   "source": [
    "/Users/jdvelasq/anaconda/bin/python --version"
   ]
  },
  {
   "cell_type": "code",
   "execution_count": 46,
   "metadata": {
    "collapsed": false
   },
   "outputs": [
    {
     "name": "stdout",
     "output_type": "stream",
     "text": [
      "Python 2.7.10\r\n"
     ]
    }
   ],
   "source": [
    "/usr/bin/python --version"
   ]
  },
  {
   "cell_type": "code",
   "execution_count": 47,
   "metadata": {
    "collapsed": false
   },
   "outputs": [
    {
     "name": "stdout",
     "output_type": "stream",
     "text": [
      "Python 3.5.1 :: Anaconda 2.4.1 (x86_64)\r\n"
     ]
    }
   ],
   "source": [
    "python --version"
   ]
  },
  {
   "cell_type": "markdown",
   "metadata": {},
   "source": [
    "**Escriba un programa en Python 2.7.10 que imprima una secuencia de números de forma similar al comando `seq`.**  \n",
    "Para ejecutarse debe darse el path al python 2.7.10 que esta ubicado en `/usr/bin/python`."
   ]
  },
  {
   "cell_type": "code",
   "execution_count": 48,
   "metadata": {
    "collapsed": false
   },
   "outputs": [
    {
     "name": "stdout",
     "output_type": "stream",
     "text": [
      "1 2 3 4 5\r\n"
     ]
    }
   ],
   "source": [
    "echo \"\n",
    "import sys\n",
    "x = int(sys.argv[1])\n",
    "for i in range(x):\n",
    "    print i+1,\n",
    "\" > seq.py\n",
    "/usr/bin/python seq.py 5"
   ]
  },
  {
   "cell_type": "markdown",
   "metadata": {},
   "source": [
    "**Convierta el programa anterior en una herramienta que se pueda usar directamente por el shell.**  \n",
    "Se debe adicionar el shebang (explicación al principio de este documento), y luego cambiar los permisos del archivo."
   ]
  },
  {
   "cell_type": "code",
   "execution_count": 49,
   "metadata": {
    "collapsed": false
   },
   "outputs": [
    {
     "name": "stdout",
     "output_type": "stream",
     "text": [
      "1 2 3 4\r\n"
     ]
    }
   ],
   "source": [
    "echo \"#! /usr/bin/python\n",
    "import sys\n",
    "x = int(sys.argv[1])\n",
    "for i in range(x):\n",
    "    print i+1,\n",
    "\" > seq.py\n",
    "chmod +x seq.py\n",
    "./seq.py 4"
   ]
  },
  {
   "cell_type": "markdown",
   "metadata": {},
   "source": [
    "**Escriba una utilidad en el lenguaje R que genere números aleatorios uniformes**.  \n",
    "Primero se ubica donde está el programa `Rscript`. Luego se escribe el programa y se cambian los permisos del archivo como en el caso anterior."
   ]
  },
  {
   "cell_type": "code",
   "execution_count": 50,
   "metadata": {
    "collapsed": false
   },
   "outputs": [
    {
     "name": "stdout",
     "output_type": "stream",
     "text": [
      "/Users/jdvelasq/anaconda/bin/Rscript\r\n",
      "/usr/local/bin/Rscript\r\n"
     ]
    }
   ],
   "source": [
    "which -a Rscript"
   ]
  },
  {
   "cell_type": "code",
   "execution_count": 51,
   "metadata": {
    "collapsed": false
   },
   "outputs": [
    {
     "name": "stdout",
     "output_type": "stream",
     "text": [
      "0.5134767\r\n",
      "0.4053133\r\n",
      "0.9976381\r\n",
      "0.6178912\r\n",
      "0.2348758\r\n"
     ]
    }
   ],
   "source": [
    "echo \"#! /usr/bin/env Rscript\n",
    "args <- commandArgs(trailingOnly=TRUE)\n",
    "cat(runif(as.numeric(args)), sep='\\n')\n",
    "\" > unif.R\n",
    "chmod +x unif.R\n",
    "./unif.R 5"
   ]
  },
  {
   "cell_type": "markdown",
   "metadata": {},
   "source": [
    "**Escriba una función en bash que genere archivos llamados `out.*` los cuales tienen `m` números aleatorios uniformes.**  \n",
    "La llamada `unif 3 5` genera 3 archivos con 5 números aletorios cada uno."
   ]
  },
  {
   "cell_type": "code",
   "execution_count": 52,
   "metadata": {
    "collapsed": false
   },
   "outputs": [
    {
     "name": "stdout",
     "output_type": "stream",
     "text": []
    }
   ],
   "source": [
    "unif(){\n",
    "    for n in $(seq $1)\n",
    "    do\n",
    "        echo $(./unif.R $2) > aux.${n}\n",
    "        tr ' '  '\\n' < aux.${n} > out.${n}\n",
    "        rm aux.${n}  \n",
    "    done\n",
    "}\n",
    "unif 3 5"
   ]
  },
  {
   "cell_type": "code",
   "execution_count": 53,
   "metadata": {
    "collapsed": false
   },
   "outputs": [
    {
     "name": "stdout",
     "output_type": "stream",
     "text": [
      "0.1683458\r\n",
      "0.4852166\r\n",
      "0.8126905\r\n",
      "0.3537993\r\n",
      "0.5849601\r\n"
     ]
    }
   ],
   "source": [
    "cat out.1"
   ]
  },
  {
   "cell_type": "code",
   "execution_count": 54,
   "metadata": {
    "collapsed": false
   },
   "outputs": [
    {
     "name": "stdout",
     "output_type": "stream",
     "text": [
      "0.4368774\r\n",
      "0.2178209\r\n",
      "0.2260478\r\n",
      "0.1674476\r\n",
      "0.5825612\r\n"
     ]
    }
   ],
   "source": [
    "cat out.2"
   ]
  },
  {
   "cell_type": "code",
   "execution_count": 55,
   "metadata": {
    "collapsed": false
   },
   "outputs": [
    {
     "name": "stdout",
     "output_type": "stream",
     "text": [
      "0.1084395\r\n",
      "0.7636974\r\n",
      "0.6969535\r\n",
      "0.3461991\r\n",
      "0.7737772\r\n"
     ]
    }
   ],
   "source": [
    "cat out.3"
   ]
  }
 ],
 "metadata": {
  "kernelspec": {
   "display_name": "Bash",
   "language": "bash",
   "name": "bash"
  },
  "language_info": {
   "codemirror_mode": "shell",
   "file_extension": ".sh",
   "mimetype": "text/x-sh",
   "name": "bash"
  }
 },
 "nbformat": 4,
 "nbformat_minor": 0
}
